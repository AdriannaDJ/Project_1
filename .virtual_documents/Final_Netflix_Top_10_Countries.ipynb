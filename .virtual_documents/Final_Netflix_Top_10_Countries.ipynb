


# Dependencies and Setup
import matplotlib.pyplot as plt
import pandas as pd
import numpy as np
import scipy.stats as st

#open csv
top_10_data = pd.read_csv('top_10_netflix_data.csv')

#display
top_10_data.head(5)


#Movies DF 
movies_df = top_10_data[top_10_data['type'] == 'Movie']

# Display the data table for preview
print("Movies:")
movies_df.head()


top_10_data.columns


#TV Show DF 
tv_shows_df = top_10_data[top_10_data['type'] == 'TV Show']

# Display the data table for preview
print("TV Shows:")
tv_shows_df.head()


#Separating Movies Genres into own dataframe
Movies_list_df = movies_df['listed_in'].str.get_dummies(', ')

Movies_list_df.head()


#Separating TV Shows Genres into own dataframe
tv_list_df = tv_shows_df['listed_in'].str.get_dummies(', ')

tv_list_df.head()





# Top 10 countries producing movies data:
countries_producing_movies = top_10_data[top_10_data['type'] == 'Movie']['country'].dropna()
country_counts = countries_producing_movies.value_counts()
sorted_country_counts = country_counts.sort_values(ascending=False)
print("Top 10 countries producing movies:")
print(sorted_country_counts.head(10))


# Pie chart for movies:
countries_producing_shows = top_10_data[top_10_data['type'] == 'Movie']['country'].dropna()
country_counts = countries_producing_shows.value_counts()
top_countries = country_counts.head(10)
plt.figure(figsize=(8, 8))
plt.pie(top_countries, labels=top_countries.index, autopct='%1.1f%%', startangle=150, pctdistance=0.85)
plt.axis('equal')
plt.title('Top 10 Countries Producing Movies')
plt.show()


# Top countries producing TV Shows
countries_producing_shows = top_10_data[top_10_data['type'] == 'TV Show']['country'].dropna()
country_counts = countries_producing_shows.value_counts()
sorted_country_counts = country_counts.sort_values(ascending=False)
print("Top countries producing TV shows:")
print(sorted_country_counts.head(10))


# Pie chart for tv:
countries_producing_shows = top_10_data[top_10_data['type'] == 'TV Show']['country'].dropna()
country_counts = countries_producing_shows.value_counts()
top_countries = country_counts.head(10)
plt.figure(figsize=(8, 8))
plt.pie(top_countries, labels=top_countries.index, autopct='%1.1f%%', startangle=150, pctdistance=0.85)
plt.axis('equal')
plt.title('Top 10 Countries Producing TV Shows')
plt.show()





#Pie Chart: Movies: Popular Genre
# Extracting top 10 movie genres
Top_10_Movie_Genre = Movies_list_df.sum().sort_values(ascending=False).head(10)

# Set the figure size
plt.figure(figsize=(6, 6))

# Plotting the pie chart
Top_10_Movie_Genre.plot(kind='pie', autopct='%1.1f%%', startangle=140)

# Set the title
plt.title('Top 10 Movie Genres in Top 10 Countries')

# Equal aspect ratio ensures that pie is drawn as a circle.
plt.axis('equal')

# Show the plot
plt.show()


#Pie Chart: TV Shows: Popular Genre
# Extracting top 10 TV Shows genres
Top_10_TV_Genre = tv_list_df.sum().sort_values(ascending=False).head(10)

# Set the figure size
plt.figure(figsize=(6, 6))

# Plotting the pie chart
Top_10_TV_Genre.plot(kind='pie', autopct='%1.1f%%', startangle=140)

# Set the title
plt.title('Top 10 TV Show Genres in Top 10 Countries')

# Equal aspect ratio ensures that pie is drawn as a circle.
plt.axis('equal')

# Show the plot
plt.show()





# Define the top 10 categories
top_10_moviegenres = list(Movies_list_df.sum().sort_values(ascending=False).head(10).index)

# Group by 'release_year' and sum the data
grouped_top10genre_movie_data = movies_df[['release_year'] + top_10_moviegenres].groupby('release_year').sum()

grouped_top10genre_movie_data_filtered = grouped_top10genre_movie_data[grouped_top10genre_movie_data.index >= 2000]


# Create a larger figure before plotting
plt.figure(figsize=(24, 16))  # Set the width to 12 inches and height to 8 inches

# Plot the data
#grouped_top10genre_movie_data.plot()
#grouped_top10genre_movie_data.plot(kind='bar', stacked=True)

ax = grouped_top10genre_movie_data_filtered.plot(kind='bar', stacked=True)

# Get the current x-axis labels and positions
x_labels = ax.get_xticklabels()
x_positions = ax.get_xticks()

# Set the x-axis ticks to show every ten years
new_x_positions = x_positions[::5]
new_x_labels = [label.get_text() for label in x_labels][::5]

# Set the new x-axis ticks and labels
ax.set_xticks(new_x_positions)
ax.set_xticklabels(new_x_labels)

# Add title and axis labels
plt.title('Top 10 Genres Over Movie Release Years')  # Add a title
plt.xlabel('Movie Release Year')  # Label for the x-axis
plt.ylabel('# of Genre Occurances')  # Label for the y-axis

# Display the plot
plt.show()


#How did genres change over time in Movies?
y_label_movie_ls = [2000, 2002, 2004, 2006, 2008, 2010, 2012, 2014, 2016, 2018, 2020]
grouped_top10genre_movie_data_filtered.pct_change().plot()
plt.title('Percentage Change in Genres Over Time in Movies')
plt.ylabel('Percentage Change (%)')
plt.xlabel('Release Year')
plt.xticks(y_label_movie_ls, rotation=45)
plt.show()


# Define the top 10 categories
top_10_tvgenres = list(tv_list_df.sum().sort_values(ascending=False).head(10).index)

# Group by 'release_year' and sum the data
grouped_top10genre_tvshow_data = tv_shows_df[['release_year'] + top_10_tvgenres].groupby('release_year').sum()

grouped_top10genre_tvshow_data_filtered = grouped_top10genre_tvshow_data[grouped_top10genre_tvshow_data.index >= 2000]


# Create a larger figure before plotting
plt.figure(figsize=(24, 16))  # Set the width to 12 inches and height to 8 inches

# Plot the data
#grouped_top10genre_movie_data.plot()
#grouped_top10genre_movie_data.plot(kind='bar', stacked=True)

bx = grouped_top10genre_tvshow_data_filtered.plot(kind='bar', stacked=True)

# Get the current x-axis labels and positions
tv_x_labels = bx.get_xticklabels()
tv_x_positions = bx.get_xticks()

# Set the x-axis ticks to show every ten years
new_tv_x_positions = tv_x_positions[::5]
new_tv_x_labels = [label.get_text() for label in tv_x_labels][::5]

# Set the new x-axis ticks and labels
bx.set_xticks(new_tv_x_positions)
bx.set_xticklabels(new_tv_x_labels)

# Add title and axis labels
plt.title('Top 10 Genres Over TV Show Release Years')  # Add a title
plt.xlabel('TV Show Release Year')  # Label for the x-axis
plt.ylabel('# of Genre Occurances')  # Label for the y-axis

# Display the plot
plt.show()


#How did genres change over time in TV Shows?
y_label_movie_ls = [2000, 2002, 2004, 2006, 2008, 2010, 2012, 2014, 2016, 2018, 2020]
grouped_top10genre_tvshow_data_filtered.pct_change().plot()
plt.title('Percentage Change in Genres Over Time in TV Shows')
plt.ylabel('Percentage Change (%)')
plt.xlabel('Release Year')
plt.xticks(y_label_movie_ls, rotation=45)
plt.show()





# Viewing years in all countries
Movie_years = movies_df.groupby('country')['year_added'].unique()

# Viewing number of movies in the countries
num_Movies = movies_df.groupby('country')['type'].count()

# Aggregate the data to get the total number of TV shows added per country over the years
Movie_data = movies_df.groupby(['country', 'year_added']).size().reset_index(name='num_movies')

# Second graph Top 10 Countries. How many Movies are added per year based on each country? Line graph
# Plot the total number of TV shows added per country over the years
for country, data in Movie_data.groupby('country'):
    plt.plot(data['year_added'], data['num_movies'], label=country)

plt.title('Number of Movies Added to Netflix from the Top 10 Countries')
plt.xlabel('Year')
plt.ylabel('Number of Movies Added')
plt.legend(bbox_to_anchor=(1.04, 1), loc="upper left")
plt.xticks(data['year_added'], rotation=45)
plt.yticks(np.arange(0, 600, 50))
plt.grid()
plt.show()


# Viewing years in all countries
TV_years = tv_shows_df.groupby('country')['year_added'].unique()

# Viewing number of TV shows in the countries
num_TV_shows = tv_shows_df.groupby('country')['type'].count()

# Aggregate the data to get the total number of TV shows added per country over the years
TV_data = tv_shows_df.groupby(['country', 'year_added']).size().reset_index(name='num_shows')

# First graph Top 10 Countries. How many TV shows are added per year based on each country? Line graph
# create list of y-labels due to missing values in year_added.
y_label_ls = [2008, 2009, 2010, 2011, 2012, 2013, 2014, 2015, 2016, 2017, 2018, 2019, 2020, 2021]

# Plot the total number of TV shows added per country over the years
for country, data in TV_data.groupby('country'):
    plt.plot(data['year_added'], data['num_shows'], label=country)

plt.title('Number of TV Shows Added to Netflix from the Top 10 Countries')
plt.xlabel('Year')
plt.ylabel('Number of TV Shows Added')
plt.legend(bbox_to_anchor=(1.04, 1), loc="upper left")
plt.xticks(y_label_ls, rotation=45)
plt.yticks(np.arange(0, 300, 50))
plt.grid()
plt.show()


# resources: Xpert Learning Assistant to aggreate data and complete for loop for plotting.
# legend location: https://stackoverflow.com/questions/4700614/how-to-put-the-legend-outside-the-plot





#Ratings Data
rating_view = top_10_data.groupby('rating').size().sort_values(ascending=False)
rating_view


#Percentage Ratings for Movies.
movies_ratings = top_10_data[top_10_data['type'] == 'Movie'][['title', 'rating', 'country']]
movie_rating_count = movies_ratings['rating'].count()
movie_rating_perc = round((movies_ratings.groupby(['rating','country']).size().sort_values(ascending=False) / movie_rating_count) * 100, 2)
movie_rating_perc


# Create a DataFrame to display the information
movie_rating_table = movie_rating_perc.unstack().fillna(0)
print(movie_rating_table)


# New plot for Rating Percentages in Movies for Top 10 Countries 
movies_ratings_pivot=movies_ratings.pivot_table(index='rating', columns='country', aggfunc='size')
(movies_ratings_pivot/(movies_ratings_pivot.sum())).T.plot(kind='bar', stacked=True)
plt.title('Rating Percentages in Movies for Top 10 Countries')
plt.legend(bbox_to_anchor=(1.04, 1), loc="upper left")
plt.xlabel('Country')
plt.ylabel('Percentage')
plt.show()


# #Resetting the Index
# movie_rating_perc_reset = movie_rating_perc.reset_index()

# # Pivot the DataFrame to have 'rating' as columns for stacked bar chart
# pivot_table = movie_rating_perc_reset.pivot(index='country', columns='rating', values=0).fillna(0)

# # Create a stacked bar chart
# pivot_table.plot(kind='bar', stacked=True, figsize=(12, 8))
# plt.xlabel('Country')
# plt.ylabel('Percentage')
# plt.title('Distribution of Ratings for Movies by Country')
# plt.legend(title='Rating', bbox_to_anchor=(1.05, 1), loc='upper left')

# plt.show()


#Percentage of Ratings in TV Shows
tv_ratings = top_10_data[top_10_data['type'] == 'TV Show'][['title', 'rating']]
tv_ratings = tv_ratings.merge(top_10_data[['title', 'country']], on='title', how='left')
tv_rating_count = tv_ratings['rating'].count()
tv_rating_perc = round((tv_ratings.groupby(['rating','country']).size().sort_values(ascending=False) / tv_rating_count) * 100, 2)
tv_rating_perc.head(5)


# Create a DataFrame to display the information
tv_rating_table = tv_rating_perc.unstack().fillna(0)
print(tv_rating_table)


# New plot for Rating Percentages in Movies for Top 10 Countries 
tv_ratings_pivot=tv_ratings.pivot_table(index='rating', columns='country', aggfunc='size')
(tv_ratings_pivot/(tv_ratings_pivot.sum())).T.plot(kind='bar', stacked=True)
plt.title('Rating Percentages in TV Show for Top 10 Countries')
plt.legend(bbox_to_anchor=(1.04, 1), loc="upper left")
plt.xlabel('Country')
plt.ylabel('Percentage')
plt.show()


# #Resetting Index
# tv_rating_perc_reset = tv_rating_perc.reset_index()

# # Pivot the DataFrame to have 'rating' as columns for stacked bar chart
# pivot_table = tv_rating_perc_reset.pivot(index='country', columns='rating', values=0).fillna(0)

# # Create a stacked bar chart
# pivot_table.plot(kind='bar', stacked=True, figsize=(12, 8))
# plt.xlabel('Country')
# plt.ylabel('Percentage')
# plt.title('Distribution of Ratings for TV by Country')
# plt.legend(title='Rating', bbox_to_anchor=(1.05, 1), loc='upper left')

# plt.show()





# Average number of tv show seasons
grouped_data = top_10_data.groupby('title').agg({'duration': lambda x: int(x.split()[0]) if 'Season' in x else 1})
average_seasons = grouped_data['duration'].mean()
print("Average number of seasons per TV show:", average_seasons)


## Scatter plot of comparison between film and tv show
movies_data = top_10_data[top_10_data['type'] == 'Movie']
movies_countries = movies_data['country'].dropna()
movies_country_counts = movies_countries.value_counts().head(10)

tv_shows_data = top_10_data[top_10_data['type'] == 'TV Show']
tv_shows_countries = tv_shows_data['country'].dropna()
tv_shows_country_counts = tv_shows_countries.value_counts().head(10)

movies_x = movies_country_counts.index
movies_y = movies_country_counts.values

tv_shows_x = tv_shows_country_counts.index
tv_shows_y = tv_shows_country_counts.values

plt.figure(figsize=(10, 6))
plt.scatter(movies_x, movies_y, color='blue', label='Movies')
plt.scatter(tv_shows_x, tv_shows_y, color='red', label='TV Shows')

plt.xlabel('Country')
plt.ylabel('Number of Productions')
plt.title('Top Countries Producing Movies vs TV Shows')
plt.xticks(rotation=90) 
plt.legend()

plt.tight_layout()
plt.show()


# kevin_df=top_10_data[top_10_data['type']=='Movie'].copy()
# kevin_df['duration']=kevin_df['duration'].str.replace(' min', '').astype('float')
# kevin_df.groupby('country')['duration'].mean().plot(kind='bar')


# TV show 
# which genres had longest seasons? most success



# ## Horizontal bar chart
# categories = ['United States', 'India', 'United Kingdom', 'Canada', 'Spain', 'Egypyt', 
#               'Nigeria', 'Indonesia', 'Turkey', 'Japan']
# values1_movie = [2058, 893, 206 ,122 ,97 ,92 ,86, 77, 76, 76]
# values2_tvshow = [760, 213, 169, 158, 79, 68, 59, 49, 48, 48]
# fig, ax = plt.subplots()
# ax.barh(categories, values1_movie, label='Movies')
# ax.barh(categories, values2_tvshow, left=values1_movie, label='TV Shows')

# ax.set_ylabel('Countries')
# ax.set_xlabel('Run Time')
# ax.set_title('Combined TV Show Seasons & Film Production')
# ax.legend()

# ## Analysis label
# plt.text(5, -3.0, "The tv show and film production numbers combined per top 10 producing countries.", ha='left')

# plt.show()


# Average Number of movie duration for Top 10 Countries
# Country names overlap at the bottom with this code, error fixed!

exact_data = top_10_data[['country', 'type', 'duration']]
exact_data = exact_data.dropna(subset=['country'])
exact_data = exact_data.dropna(subset=['duration'])

exact_data['duration'] = exact_data['duration'].apply(lambda x: int(x.split()[0]))

grouped_data = exact_data.groupby(['country', 'type']).mean().reset_index()

# movies separated
movies_data = grouped_data[grouped_data['type'] == 'Movie'].nlargest(10, 'duration')

#plot
fig, ax = plt.subplots(figsize=(12, 6))
ax.bar(movies_data['country'], movies_data['duration'], label='Movie Duration')

# labels
ax.set_xlabel('Country')
ax.set_ylabel('Average Duration / Seasons')
ax.set_title('Average Number of Show Seasons & Movie Duration for Top 10 Countries')
ax.legend()

plt.xticks(rotation=45, ha='right')
plt.tight_layout()
plt.show()


#Plotting Average Number of Show Seasons for Top 10 Countries (Across Movies & TV Shows)
tv_shows_data = grouped_data[grouped_data['type'] == 'TV Show'].nlargest(10, 'duration')

fig, ax = plt.subplots(figsize=(12, 6))

ax.bar(tv_shows_data['country'], tv_shows_data['duration'], color='red', label='TV Show Seasons')

# labels
ax.set_xlabel('Country')
ax.set_ylabel('Average Duration / Seasons')
ax.set_title('Average Number of Show Seasons & Movie Duration for Top 10 Countries')
ax.legend()

plt.xticks(rotation=45, ha='right')
plt.tight_layout()
plt.show()
